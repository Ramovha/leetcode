{
 "cells": [
  {
   "cell_type": "code",
   "execution_count": 3,
   "metadata": {},
   "outputs": [
    {
     "name": "stdout",
     "output_type": "stream",
     "text": [
      "{'name': 'for', 3: 'geeks'}\n",
      "\n",
      "dictionary after deleton{'name': 'for', 3: 'geeks'}\n",
      "\n",
      "value assoiciated to poped key is:geeks\n"
     ]
    }
   ],
   "source": [
    "# USING POP() METHOD\n",
    "\n",
    "# creating a dictionary\n",
    "\n",
    "Dict = {1: 'geeks', 'name' : 'for', 3:'geeks'}\n",
    "\n",
    "# deleting a key using pop() method\n",
    "\n",
    "pop_ele = Dict.pop(1)\n",
    "print(Dict)\n",
    "print('\\ndictionary after deleton' + str(Dict))\n",
    "print('\\nvalue assoiciated to poped key is:' +str(pop_ele))    \n",
    "      "
   ]
  },
  {
   "cell_type": "code",
   "execution_count": 5,
   "metadata": {},
   "outputs": [
    {
     "name": "stdout",
     "output_type": "stream",
     "text": [
      "\n",
      "Dictionary after deletion: {1: 'Geeks', 'name': 'For'}\n",
      "The arbitrary pair returned is: (3, 'Geeks')\n"
     ]
    }
   ],
   "source": [
    "# USING POPITEM() METHOD\n",
    "\n",
    "# creating a dictionary\n",
    "\n",
    "Dict = {1: 'Geeks', 'name': 'For', 3: 'Geeks'} \n",
    "\n",
    "# deleting an arbitrary key using popitem() function\n",
    "\n",
    "pop_ele = Dict.popitem()\n",
    "print(\"\\nDictionary after deletion: \" + str(Dict)) \n",
    "print(\"The arbitrary pair returned is: \" + str(pop_ele)) "
   ]
  },
  {
   "cell_type": "code",
   "execution_count": 6,
   "metadata": {},
   "outputs": [
    {
     "name": "stdout",
     "output_type": "stream",
     "text": [
      "\n",
      "Deleting Entire Dictionary: \n",
      "{}\n"
     ]
    }
   ],
   "source": [
    "# USING CLEAR() METHOD\n",
    "\n",
    "# Creating a Dictionary \n",
    "Dict = {1: 'Geeks', 'name': 'For', 3: 'Geeks'} \n",
    "  \n",
    "  \n",
    "# Deleting entire Dictionary \n",
    "Dict.clear() \n",
    "print(\"\\nDeleting Entire Dictionary: \") \n",
    "print(Dict) \n"
   ]
  },
  {
   "cell_type": "code",
   "execution_count": null,
   "metadata": {},
   "outputs": [],
   "source": []
  }
 ],
 "metadata": {
  "kernelspec": {
   "display_name": "Python 3",
   "language": "python",
   "name": "python3"
  },
  "language_info": {
   "codemirror_mode": {
    "name": "ipython",
    "version": 3
   },
   "file_extension": ".py",
   "mimetype": "text/x-python",
   "name": "python",
   "nbconvert_exporter": "python",
   "pygments_lexer": "ipython3",
   "version": "3.8.5"
  }
 },
 "nbformat": 4,
 "nbformat_minor": 4
}
