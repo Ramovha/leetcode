{
 "cells": [
  {
   "cell_type": "code",
   "execution_count": 1,
   "metadata": {},
   "outputs": [
    {
     "name": "stdout",
     "output_type": "stream",
     "text": [
      "Initial Dictionary\n",
      "{5: 'Welcome', 6: 'To', 7: 'Geeks', 'A': {1: 'Geeks', 2: 'For', 3: 'Geeks'}, 'B': {1: 'Geeks', 2: 'Life'}}\n"
     ]
    }
   ],
   "source": [
    "# initial dictionary\n",
    "\n",
    "Dict = { 5 : 'Welcome', 6 : 'To', 7 : 'Geeks', \n",
    "        'A' : {1 : 'Geeks', 2 : 'For', 3 : 'Geeks'}, \n",
    "        'B' : {1 : 'Geeks', 2 : 'Life'}}\n",
    "\n",
    "print(\"Initial Dictionary\")\n",
    "print(Dict)"
   ]
  },
  {
   "cell_type": "code",
   "execution_count": 2,
   "metadata": {},
   "outputs": [
    {
     "name": "stdout",
     "output_type": "stream",
     "text": [
      "\n",
      " deleting a specific key value\n",
      "{5: 'Welcome', 7: 'Geeks', 'A': {1: 'Geeks', 2: 'For', 3: 'Geeks'}, 'B': {1: 'Geeks', 2: 'Life'}}\n"
     ]
    }
   ],
   "source": [
    "# deleting  a key value\n",
    "\n",
    "del Dict[6]\n",
    "print(\"\\n deleting a specific key value\")\n",
    "\n",
    "print(Dict)"
   ]
  },
  {
   "cell_type": "code",
   "execution_count": 3,
   "metadata": {},
   "outputs": [
    {
     "name": "stdout",
     "output_type": "stream",
     "text": [
      "\n",
      " deleting a key from a nested dict..\n",
      "{5: 'Welcome', 7: 'Geeks', 'A': {1: 'Geeks', 3: 'Geeks'}, 'B': {1: 'Geeks', 2: 'Life'}}\n"
     ]
    }
   ],
   "source": [
    "# deleting a key value from nested dictionary\n",
    "\n",
    "del Dict['A'][2]\n",
    "print(\"\\n deleting a key from a nested dict..\")\n",
    "print(Dict)"
   ]
  },
  {
   "cell_type": "code",
   "execution_count": null,
   "metadata": {},
   "outputs": [],
   "source": []
  }
 ],
 "metadata": {
  "kernelspec": {
   "display_name": "Python 3",
   "language": "python",
   "name": "python3"
  },
  "language_info": {
   "codemirror_mode": {
    "name": "ipython",
    "version": 3
   },
   "file_extension": ".py",
   "mimetype": "text/x-python",
   "name": "python",
   "nbconvert_exporter": "python",
   "pygments_lexer": "ipython3",
   "version": "3.8.5"
  }
 },
 "nbformat": 4,
 "nbformat_minor": 4
}
