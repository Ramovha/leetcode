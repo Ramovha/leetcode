{
 "cells": [
  {
   "cell_type": "code",
   "execution_count": 1,
   "metadata": {},
   "outputs": [
    {
     "name": "stdout",
     "output_type": "stream",
     "text": [
      "Empty Dictionary\n",
      "{}\n"
     ]
    }
   ],
   "source": [
    "#creating an empty dictionary\n",
    "Dict = {}\n",
    "print(\"Empty Dictionary\")\n",
    "print(Dict)"
   ]
  },
  {
   "cell_type": "code",
   "execution_count": 2,
   "metadata": {},
   "outputs": [
    {
     "name": "stdout",
     "output_type": "stream",
     "text": [
      "\n",
      " dictionary after adding 3 elements\n",
      "{0: 'Geeks', 2: 'for', 3: 1}\n"
     ]
    }
   ],
   "source": [
    "# adding elements one at a time\n",
    "Dict[0] = 'Geeks'\n",
    "Dict[2] = 'for'\n",
    "Dict[3] = 1\n",
    "print(\"\\n dictionary after adding 3 elements\")\n",
    "print(Dict)"
   ]
  },
  {
   "cell_type": "code",
   "execution_count": 3,
   "metadata": {},
   "outputs": [
    {
     "name": "stdout",
     "output_type": "stream",
     "text": [
      "\n",
      " dictionary after adding 3 elements\n",
      "{0: 'Geeks', 2: 'for', 3: 1, 'value_set': (2, 3, 4)}\n"
     ]
    }
   ],
   "source": [
    "# adding set of values to a single key\n",
    "\n",
    "Dict['value_set'] =2, 3, 4\n",
    "print(\"\\n dictionary after adding 3 elements\")\n",
    "\n",
    "print(Dict)"
   ]
  },
  {
   "cell_type": "code",
   "execution_count": 4,
   "metadata": {},
   "outputs": [
    {
     "name": "stdout",
     "output_type": "stream",
     "text": [
      "updated key value\n",
      "{0: 'Geeks', 2: 'welcome', 3: 1, 'value_set': (2, 3, 4)}\n"
     ]
    }
   ],
   "source": [
    "# updating existing key's value\n",
    "Dict[2] = 'welcome'\n",
    "print(\"updated key value\")\n",
    "print(Dict)"
   ]
  },
  {
   "cell_type": "code",
   "execution_count": null,
   "metadata": {},
   "outputs": [],
   "source": []
  }
 ],
 "metadata": {
  "kernelspec": {
   "display_name": "Python 3",
   "language": "python",
   "name": "python3"
  },
  "language_info": {
   "codemirror_mode": {
    "name": "ipython",
    "version": 3
   },
   "file_extension": ".py",
   "mimetype": "text/x-python",
   "name": "python",
   "nbconvert_exporter": "python",
   "pygments_lexer": "ipython3",
   "version": "3.8.5"
  }
 },
 "nbformat": 4,
 "nbformat_minor": 4
}
