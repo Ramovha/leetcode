{
 "cells": [
  {
   "cell_type": "code",
   "execution_count": 58,
   "metadata": {},
   "outputs": [
    {
     "name": "stdout",
     "output_type": "stream",
     "text": [
      "\n",
      " dictionary with the use of integer keys\n",
      "{1: 'Geeks', 2: 'for', 3: 'Geeks'}\n"
     ]
    }
   ],
   "source": [
    "#Creating a dictionary with integer keys\n",
    "\n",
    "Dictt = {1: 'Geeks', 2: 'for', 3:'Geeks'}\n",
    "print(\"\\n dictionary with the use of integer keys\")\n",
    "print(Dictt)"
   ]
  },
  {
   "cell_type": "code",
   "execution_count": 59,
   "metadata": {},
   "outputs": [
    {
     "name": "stdout",
     "output_type": "stream",
     "text": [
      "\n",
      " dictionary with the use of mixed keys:\n",
      "{'Name': 'Geeks', 1: [1, 2, 3, 4]}\n"
     ]
    }
   ],
   "source": [
    "# creating a dictioanry with mixed keys\n",
    "\n",
    "Dicttt = {'Name': 'Geeks', 1:[1, 2, 3, 4]}\n",
    "print(\"\\n dictionary with the use of mixed keys:\")\n",
    "print(Dicttt)"
   ]
  },
  {
   "cell_type": "code",
   "execution_count": 60,
   "metadata": {},
   "outputs": [
    {
     "name": "stdout",
     "output_type": "stream",
     "text": [
      "{}\n"
     ]
    }
   ],
   "source": [
    "test = {}\n",
    "print(test)"
   ]
  },
  {
   "cell_type": "code",
   "execution_count": 61,
   "metadata": {},
   "outputs": [
    {
     "name": "stdout",
     "output_type": "stream",
     "text": [
      "empty dictionary\n",
      "{}\n"
     ]
    }
   ],
   "source": [
    "#creating an emptyh dictionary\n",
    "Dictttt = {}\n",
    "print(\"empty dictionary\")\n",
    "print(Dictttt)\n"
   ]
  },
  {
   "cell_type": "code",
   "execution_count": null,
   "metadata": {},
   "outputs": [],
   "source": []
  }
 ],
 "metadata": {
  "kernelspec": {
   "display_name": "Python 3",
   "language": "python",
   "name": "python3"
  },
  "language_info": {
   "codemirror_mode": {
    "name": "ipython",
    "version": 3
   },
   "file_extension": ".py",
   "mimetype": "text/x-python",
   "name": "python",
   "nbconvert_exporter": "python",
   "pygments_lexer": "ipython3",
   "version": "3.8.5"
  }
 },
 "nbformat": 4,
 "nbformat_minor": 4
}
